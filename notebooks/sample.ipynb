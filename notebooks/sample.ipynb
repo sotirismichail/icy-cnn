{
  "nbformat": 4,
  "nbformat_minor": 0,
  "metadata": {
    "colab": {
      "provenance": []
    },
    "kernelspec": {
      "name": "python3",
      "display_name": "Python 3"
    },
    "language_info": {
      "name": "python"
    }
  },
  "cells": [
    {
      "cell_type": "markdown",
      "source": [
        "# Image processing experiment with icy-cnn\n",
        "\n",
        "In this notebook, we will experiment with various image transformations using the icy-cnn project. We'll focus on log-polar transformations and CORDIC log-polar transformations.\n",
        "\n",
        "## Setup"
      ],
      "metadata": {
        "id": "xg_xrMvZX8kN"
      }
    },
    {
      "cell_type": "code",
      "source": [
        "import sys\n",
        "sys.path.append('../src')\n",
        "\n",
        "from image_loader import load_image\n",
        "from transforms import logpolar, log_cordic_transform\n",
        "from padding import pad\n",
        "from display import display_images"
      ],
      "metadata": {
        "id": "xyLfNq9XYH9Z"
      },
      "execution_count": null,
      "outputs": []
    },
    {
      "cell_type": "markdown",
      "source": [
        "## Load sample image\n",
        "\n",
        "We will start by loading a sample image to apply our transformations."
      ],
      "metadata": {
        "id": "1txHuFiLYLlE"
      }
    },
    {
      "cell_type": "code",
      "source": [
        "image_path = '../notebooks/doge.png'\n",
        "original_image = load_image(image_path)\n",
        "display_images([original_image], ['Original Image'])"
      ],
      "metadata": {
        "id": "0a1BOfZvYPEE"
      },
      "execution_count": null,
      "outputs": []
    },
    {
      "cell_type": "markdown",
      "source": [
        "## Log-polar transformation\n",
        "\n",
        "Now, let's apply the log-polar transformation to our image."
      ],
      "metadata": {
        "id": "hxD_qaWLYUCG"
      }
    },
    {
      "cell_type": "code",
      "source": [
        "log_polar_image = logpolar(original_image)\n",
        "display_images([log_polar_image], ['Log-Polar Transformed Image'])"
      ],
      "metadata": {
        "id": "n8htw-OjYXO1"
      },
      "execution_count": null,
      "outputs": []
    },
    {
      "cell_type": "markdown",
      "source": [
        "## CORDIC Log-Polar Transformation\n",
        "\n",
        "Next, we apply the CORDIC log-polar transformation."
      ],
      "metadata": {
        "id": "Y97VZAnhYfMb"
      }
    },
    {
      "cell_type": "code",
      "source": [
        "cordic_log_polar_image = log_cordic_transform(original_image)\n",
        "display_images([cordic_log_polar_image], ['CORDIC Log-Polar Transformed Image'])"
      ],
      "metadata": {
        "id": "CAcaeIi4Yimi"
      },
      "execution_count": null,
      "outputs": []
    },
    {
      "cell_type": "markdown",
      "source": [
        "## Padding Experiment\n",
        "\n",
        "Let's experiment with padding the original and transformed images."
      ],
      "metadata": {
        "id": "1NA3focTYlEG"
      }
    },
    {
      "cell_type": "code",
      "source": [
        "padded_image = pad(original_image, (10, 10), mode=\"cylindrical\")\n",
        "display_images([padded_image], ['Padded Original Image'])"
      ],
      "metadata": {
        "colab": {
          "base_uri": "https://localhost:8080/",
          "height": 212
        },
        "id": "2HEKMmiqYmnk",
        "outputId": "fcbf6a58-26d7-4684-a0c9-92103515d773"
      },
      "execution_count": 1,
      "outputs": [
        {
          "output_type": "error",
          "ename": "NameError",
          "evalue": "ignored",
          "traceback": [
            "\u001b[0;31m---------------------------------------------------------------------------\u001b[0m",
            "\u001b[0;31mNameError\u001b[0m                                 Traceback (most recent call last)",
            "\u001b[0;32m<ipython-input-1-f1c48594f53d>\u001b[0m in \u001b[0;36m<cell line: 2>\u001b[0;34m()\u001b[0m\n\u001b[1;32m      1\u001b[0m \u001b[0;31m# Example of padding\u001b[0m\u001b[0;34m\u001b[0m\u001b[0;34m\u001b[0m\u001b[0m\n\u001b[0;32m----> 2\u001b[0;31m \u001b[0mpadded_image\u001b[0m \u001b[0;34m=\u001b[0m \u001b[0mpad\u001b[0m\u001b[0;34m(\u001b[0m\u001b[0moriginal_image\u001b[0m\u001b[0;34m,\u001b[0m \u001b[0;34m(\u001b[0m\u001b[0;36m10\u001b[0m\u001b[0;34m,\u001b[0m \u001b[0;36m10\u001b[0m\u001b[0;34m)\u001b[0m\u001b[0;34m,\u001b[0m \u001b[0mmode\u001b[0m\u001b[0;34m=\u001b[0m\u001b[0;34m\"cylindrical\"\u001b[0m\u001b[0;34m)\u001b[0m\u001b[0;34m\u001b[0m\u001b[0;34m\u001b[0m\u001b[0m\n\u001b[0m\u001b[1;32m      3\u001b[0m \u001b[0mdisplay_images\u001b[0m\u001b[0;34m(\u001b[0m\u001b[0;34m[\u001b[0m\u001b[0mpadded_image\u001b[0m\u001b[0;34m]\u001b[0m\u001b[0;34m,\u001b[0m \u001b[0;34m[\u001b[0m\u001b[0;34m'Padded Original Image'\u001b[0m\u001b[0;34m]\u001b[0m\u001b[0;34m)\u001b[0m\u001b[0;34m\u001b[0m\u001b[0;34m\u001b[0m\u001b[0m\n",
            "\u001b[0;31mNameError\u001b[0m: name 'pad' is not defined"
          ]
        }
      ]
    }
  ]
}