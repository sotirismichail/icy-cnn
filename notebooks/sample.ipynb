{
  "cells": [
    {
      "cell_type": "markdown",
      "metadata": {
        "id": "xg_xrMvZX8kN"
      },
      "source": [
        "# Image processing experiment with icy-cnn\n",
        "\n",
        "In this notebook, we will experiment with various image transformations using the icy-cnn project. We'll focus on log-polar transformations and CORDIC log-polar transformations.\n",
        "\n",
        "## Setup"
      ]
    },
    {
      "cell_type": "code",
      "execution_count": 1,
      "metadata": {
        "id": "xyLfNq9XYH9Z"
      },
      "outputs": [
        {
          "ename": "ModuleNotFoundError",
          "evalue": "No module named 'numpy'",
          "output_type": "error",
          "traceback": [
            "\u001b[0;31m---------------------------------------------------------------------------\u001b[0m",
            "\u001b[0;31mModuleNotFoundError\u001b[0m                       Traceback (most recent call last)",
            "\u001b[1;32m/home/smichail/icy_cnn/notebooks/sample.ipynb Cell 2\u001b[0m line \u001b[0;36m4\n\u001b[1;32m      <a href='vscode-notebook-cell:/home/smichail/icy_cnn/notebooks/sample.ipynb#W1sZmlsZQ%3D%3D?line=0'>1</a>\u001b[0m \u001b[39mimport\u001b[39;00m \u001b[39msys\u001b[39;00m\n\u001b[1;32m      <a href='vscode-notebook-cell:/home/smichail/icy_cnn/notebooks/sample.ipynb#W1sZmlsZQ%3D%3D?line=1'>2</a>\u001b[0m sys\u001b[39m.\u001b[39mpath\u001b[39m.\u001b[39mappend(\u001b[39m'\u001b[39m\u001b[39m../src\u001b[39m\u001b[39m'\u001b[39m)\n\u001b[0;32m----> <a href='vscode-notebook-cell:/home/smichail/icy_cnn/notebooks/sample.ipynb#W1sZmlsZQ%3D%3D?line=3'>4</a>\u001b[0m \u001b[39mfrom\u001b[39;00m \u001b[39mimage_loader\u001b[39;00m \u001b[39mimport\u001b[39;00m load_image\n\u001b[1;32m      <a href='vscode-notebook-cell:/home/smichail/icy_cnn/notebooks/sample.ipynb#W1sZmlsZQ%3D%3D?line=4'>5</a>\u001b[0m \u001b[39mfrom\u001b[39;00m \u001b[39mtransforms\u001b[39;00m \u001b[39mimport\u001b[39;00m logpolar, log_cordic_transform\n\u001b[1;32m      <a href='vscode-notebook-cell:/home/smichail/icy_cnn/notebooks/sample.ipynb#W1sZmlsZQ%3D%3D?line=5'>6</a>\u001b[0m \u001b[39mfrom\u001b[39;00m \u001b[39mpadding\u001b[39;00m \u001b[39mimport\u001b[39;00m pad\n",
            "File \u001b[0;32m~/icy_cnn/notebooks/../src/image_loader.py:4\u001b[0m\n\u001b[1;32m      1\u001b[0m \u001b[39m# image_loader.py\u001b[39;00m\n\u001b[1;32m      2\u001b[0m \u001b[39mfrom\u001b[39;00m \u001b[39mtyping\u001b[39;00m \u001b[39mimport\u001b[39;00m Optional\n\u001b[0;32m----> 4\u001b[0m \u001b[39mimport\u001b[39;00m \u001b[39mnumpy\u001b[39;00m \u001b[39mas\u001b[39;00m \u001b[39mnp\u001b[39;00m\n\u001b[1;32m      5\u001b[0m \u001b[39mfrom\u001b[39;00m \u001b[39mPIL\u001b[39;00m \u001b[39mimport\u001b[39;00m Image\n\u001b[1;32m      8\u001b[0m \u001b[39mdef\u001b[39;00m \u001b[39mload_image\u001b[39m(image_path: \u001b[39mstr\u001b[39m) \u001b[39m-\u001b[39m\u001b[39m>\u001b[39m Optional[np\u001b[39m.\u001b[39mndarray]:\n",
            "\u001b[0;31mModuleNotFoundError\u001b[0m: No module named 'numpy'"
          ]
        }
      ],
      "source": [
        "import sys\n",
        "sys.path.append('../src')\n",
        "\n",
        "from image_loader import load_image\n",
        "from transforms import logpolar, log_cordic_transform\n",
        "from padding import pad\n",
        "from display import display_images"
      ]
    },
    {
      "cell_type": "markdown",
      "metadata": {
        "id": "1txHuFiLYLlE"
      },
      "source": [
        "## Load sample image\n",
        "\n",
        "We will start by loading a sample image to apply our transformations."
      ]
    },
    {
      "cell_type": "code",
      "execution_count": null,
      "metadata": {
        "id": "0a1BOfZvYPEE"
      },
      "outputs": [],
      "source": [
        "image_path = '../notebooks/doge.png'\n",
        "original_image = load_image(image_path)\n",
        "display_images([original_image], ['Original Image'])"
      ]
    },
    {
      "cell_type": "markdown",
      "metadata": {
        "id": "hxD_qaWLYUCG"
      },
      "source": [
        "## Log-polar transformation\n",
        "\n",
        "Now, let's apply the log-polar transformation to our image."
      ]
    },
    {
      "cell_type": "code",
      "execution_count": null,
      "metadata": {
        "id": "n8htw-OjYXO1"
      },
      "outputs": [],
      "source": [
        "log_polar_image = logpolar(original_image)\n",
        "display_images([log_polar_image], ['Log-Polar Transformed Image'])"
      ]
    },
    {
      "cell_type": "markdown",
      "metadata": {
        "id": "Y97VZAnhYfMb"
      },
      "source": [
        "## CORDIC Log-Polar Transformation\n",
        "\n",
        "Next, we apply the CORDIC log-polar transformation."
      ]
    },
    {
      "cell_type": "code",
      "execution_count": null,
      "metadata": {
        "id": "CAcaeIi4Yimi"
      },
      "outputs": [],
      "source": [
        "cordic_log_polar_image = log_cordic_transform(original_image)\n",
        "display_images([cordic_log_polar_image], ['CORDIC Log-Polar Transformed Image'])"
      ]
    },
    {
      "cell_type": "markdown",
      "metadata": {
        "id": "1NA3focTYlEG"
      },
      "source": [
        "## Padding Experiment\n",
        "\n",
        "Let's experiment with padding the original and transformed images."
      ]
    },
    {
      "cell_type": "code",
      "execution_count": 1,
      "metadata": {
        "colab": {
          "base_uri": "https://localhost:8080/",
          "height": 212
        },
        "id": "2HEKMmiqYmnk",
        "outputId": "fcbf6a58-26d7-4684-a0c9-92103515d773"
      },
      "outputs": [
        {
          "ename": "NameError",
          "evalue": "ignored",
          "output_type": "error",
          "traceback": [
            "\u001b[0;31m---------------------------------------------------------------------------\u001b[0m",
            "\u001b[0;31mNameError\u001b[0m                                 Traceback (most recent call last)",
            "\u001b[0;32m<ipython-input-1-f1c48594f53d>\u001b[0m in \u001b[0;36m<cell line: 2>\u001b[0;34m()\u001b[0m\n\u001b[1;32m      1\u001b[0m \u001b[0;31m# Example of padding\u001b[0m\u001b[0;34m\u001b[0m\u001b[0;34m\u001b[0m\u001b[0m\n\u001b[0;32m----> 2\u001b[0;31m \u001b[0mpadded_image\u001b[0m \u001b[0;34m=\u001b[0m \u001b[0mpad\u001b[0m\u001b[0;34m(\u001b[0m\u001b[0moriginal_image\u001b[0m\u001b[0;34m,\u001b[0m \u001b[0;34m(\u001b[0m\u001b[0;36m10\u001b[0m\u001b[0;34m,\u001b[0m \u001b[0;36m10\u001b[0m\u001b[0;34m)\u001b[0m\u001b[0;34m,\u001b[0m \u001b[0mmode\u001b[0m\u001b[0;34m=\u001b[0m\u001b[0;34m\"cylindrical\"\u001b[0m\u001b[0;34m)\u001b[0m\u001b[0;34m\u001b[0m\u001b[0;34m\u001b[0m\u001b[0m\n\u001b[0m\u001b[1;32m      3\u001b[0m \u001b[0mdisplay_images\u001b[0m\u001b[0;34m(\u001b[0m\u001b[0;34m[\u001b[0m\u001b[0mpadded_image\u001b[0m\u001b[0;34m]\u001b[0m\u001b[0;34m,\u001b[0m \u001b[0;34m[\u001b[0m\u001b[0;34m'Padded Original Image'\u001b[0m\u001b[0;34m]\u001b[0m\u001b[0;34m)\u001b[0m\u001b[0;34m\u001b[0m\u001b[0;34m\u001b[0m\u001b[0m\n",
            "\u001b[0;31mNameError\u001b[0m: name 'pad' is not defined"
          ]
        }
      ],
      "source": [
        "padded_image = pad(original_image, (10, 10), mode=\"cylindrical\")\n",
        "display_images([padded_image], ['Padded Original Image'])"
      ]
    }
  ],
  "metadata": {
    "colab": {
      "provenance": []
    },
    "kernelspec": {
      "display_name": "Python 3",
      "name": "python3"
    },
    "language_info": {
      "codemirror_mode": {
        "name": "ipython",
        "version": 3
      },
      "file_extension": ".py",
      "mimetype": "text/x-python",
      "name": "python",
      "nbconvert_exporter": "python",
      "pygments_lexer": "ipython3",
      "version": "3.10.12"
    }
  },
  "nbformat": 4,
  "nbformat_minor": 0
}
